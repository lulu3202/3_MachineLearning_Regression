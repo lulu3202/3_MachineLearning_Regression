{
 "cells": [
  {
   "cell_type": "code",
   "execution_count": 4,
   "id": "b72551c9-d6ac-49d8-8049-28513f45dc91",
   "metadata": {},
   "outputs": [],
   "source": [
    "#import library\n",
    "import pickle"
   ]
  },
  {
   "cell_type": "code",
   "execution_count": 7,
   "id": "89780f6c-fb64-4879-af47-bd72f4f197cc",
   "metadata": {},
   "outputs": [
    {
     "name": "stderr",
     "output_type": "stream",
     "text": [
      "C:\\Anaconda\\Lib\\site-packages\\sklearn\\base.py:493: UserWarning: X does not have valid feature names, but LinearRegression was fitted with feature names\n",
      "  warnings.warn(\n"
     ]
    }
   ],
   "source": [
    "#copy and past the finalized model, if you add 0, you'll get bias value as y = (slope)x+bias; when input is zero, bias becomes the origin value \n",
    "loaded_model=pickle.load(open(\"finalized_model_linear.sav\",'rb'))\n",
    "result=loaded_model.predict([[16]])"
   ]
  },
  {
   "cell_type": "code",
   "execution_count": 8,
   "id": "7be1cf22-fb01-4da0-abe2-72c1e8cae12b",
   "metadata": {},
   "outputs": [
    {
     "data": {
      "text/plain": [
       "array([[176541.5719203]])"
      ]
     },
     "execution_count": 8,
     "metadata": {},
     "output_type": "execute_result"
    }
   ],
   "source": [
    "#calling result\n",
    "result"
   ]
  },
  {
   "cell_type": "code",
   "execution_count": null,
   "id": "2121f434-54f9-4fbe-b200-eb1f995aec4c",
   "metadata": {},
   "outputs": [],
   "source": []
  }
 ],
 "metadata": {
  "kernelspec": {
   "display_name": "Python 3 (ipykernel)",
   "language": "python",
   "name": "python3"
  },
  "language_info": {
   "codemirror_mode": {
    "name": "ipython",
    "version": 3
   },
   "file_extension": ".py",
   "mimetype": "text/x-python",
   "name": "python",
   "nbconvert_exporter": "python",
   "pygments_lexer": "ipython3",
   "version": "3.12.4"
  }
 },
 "nbformat": 4,
 "nbformat_minor": 5
}
